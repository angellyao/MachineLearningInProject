{
 "cells": [
  {
   "cell_type": "markdown",
   "id": "8e5fb300",
   "metadata": {},
   "source": [
    "# Boston Housing Price Prediction\n",
    "This notebook demonstrates a simple regression analysis using the Boston Housing dataset."
   ]
  },
  {
   "cell_type": "markdown",
   "id": "6c75b274",
   "metadata": {},
   "source": [
    "## Data Exploration\n",
    "First, let's load the dataset and have a preliminary look at the data."
   ]
  },
  {
   "cell_type": "code",
   "execution_count": null,
   "id": "f02ecccb",
   "metadata": {},
   "outputs": [],
   "source": [
    "import pandas as pd\n",
    "\n",
    "# Load the Boston Housing dataset\n",
    "column_names = ['CRIM', 'ZN', 'INDUS', 'CHAS', 'NOX', 'RM', 'AGE', 'DIS', 'RAD', 'TAX', 'PTRATIO', 'B', 'LSTAT', 'MEDV']\n",
    "housing_data = pd.read_csv('/mnt/data/housing.csv', delim_whitespace=True, header=None, names=column_names)\n",
    "housing_data.head()"
   ]
  },
  {
   "cell_type": "markdown",
   "id": "c8f6518c",
   "metadata": {},
   "source": [
    "## Data Preprocessing\n",
    "Here, we'll check for missing values and perform any necessary preprocessing."
   ]
  },
  {
   "cell_type": "code",
   "execution_count": null,
   "id": "d73e8db7",
   "metadata": {},
   "outputs": [],
   "source": [
    "# Check for missing values\n",
    "housing_data.isnull().sum()"
   ]
  },
  {
   "cell_type": "markdown",
   "id": "20651f71",
   "metadata": {},
   "source": [
    "## Feature Selection\n",
    "We will select relevant features for our regression model."
   ]
  },
  {
   "cell_type": "code",
   "execution_count": null,
   "id": "1e90cb67",
   "metadata": {},
   "outputs": [],
   "source": [
    "# For simplicity, we use all features in this example\n",
    "features = housing_data.drop('MEDV', axis=1)\n",
    "target = housing_data['MEDV']"
   ]
  },
  {
   "cell_type": "markdown",
   "id": "7d42817e",
   "metadata": {},
   "source": [
    "## Model Building\n",
    "Now, we build a regression model to predict housing prices."
   ]
  },
  {
   "cell_type": "code",
   "execution_count": null,
   "id": "41e3113e",
   "metadata": {},
   "outputs": [],
   "source": [
    "from sklearn.model_selection import train_test_split\n",
    "from sklearn.linear_model import LinearRegression\n",
    "from sklearn.metrics import mean_squared_error\n",
    "\n",
    "# Split the data\n",
    "X_train, X_test, y_train, y_test = train_test_split(features, target, test_size=0.2, random_state=42)\n",
    "\n",
    "# Initialize and train the model\n",
    "model = LinearRegression()\n",
    "model.fit(X_train, y_train)\n",
    "\n",
    "# Predictions\n",
    "predictions = model.predict(X_test)\n",
    "\n",
    "# Evaluate the model\n",
    "mse = mean_squared_error(y_test, predictions)\n",
    "print(f'Mean Squared Error: {mse}')"
   ]
  }
 ],
 "metadata": {},
 "nbformat": 4,
 "nbformat_minor": 5
}
