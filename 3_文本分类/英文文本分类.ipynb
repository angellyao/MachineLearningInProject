{
 "cells": [
  {
   "cell_type": "markdown",
   "id": "4f71124e",
   "metadata": {},
   "source": [
    "# 判断英文文稿所属的类别\n",
    "## 实际问题\n",
    "已经分好了若干类别的文档，根据其分类情况，构建分类模型，对新的文稿进行分类。\n",
    "## 问题归类\n",
    "分类问题：监督学习、分类问题（多分类）\n",
    "## 数据集说明\n",
    "给出了若干类型的文档，同时已经对文档做了训练集和测试集的切分。  \n",
    "使用训练集中的数据学习分类标准，使用测试集中的数据验证返回结果的情况。  \n",
    "数据集下载：http://qwone.com/~jason/20Newsgroups/\n",
    "\n",
    "已有有类别的文档若干，训练集、测试集已分离。训练集中需要做训练和验证的区分  \n",
    "数据集说明：数据集中包含11314个训练数据，7532个测试数据"
   ]
  },
  {
   "cell_type": "markdown",
   "id": "9d78d006",
   "metadata": {},
   "source": [
    "## 运行环境\n",
    "\n",
    "\n",
    "Python 3.11.5  \n",
    "\n",
    "Name: numpy  \n",
    "Version: 1.24.3  \n",
    "\n",
    "Name: pandas  \n",
    "Version: 2.0.3  \n",
    "\n",
    "Name: matplotlib  \n",
    "Version: 3.7.2  \n",
    "\n",
    "Name: scikit-learn  \n",
    "Version: 1.3.0 "
   ]
  },
  {
   "cell_type": "markdown",
   "id": "7a5c969c",
   "metadata": {},
   "source": [
    "# 0.整体的显示设置"
   ]
  },
  {
   "cell_type": "code",
   "execution_count": 15,
   "id": "b078fe8c",
   "metadata": {},
   "outputs": [],
   "source": [
    "# 优化\n",
    "# 1.不显示错误警告\n",
    "import warnings\n",
    "warnings.filterwarnings('ignore')\n",
    "\n",
    "# 2.画图过程中的中文显示\n",
    "from matplotlib import pyplot as plt\n",
    "plt.rcParams['font.family'] = ['sans-serif']\n",
    "plt.rcParams['font.sans-serif'] = ['SimHei']"
   ]
  },
  {
   "cell_type": "markdown",
   "id": "3653229b",
   "metadata": {},
   "source": [
    "# 1.定义问题\n",
    "题头已做说明。  "
   ]
  },
  {
   "cell_type": "markdown",
   "id": "f22a3865",
   "metadata": {},
   "source": [
    "# 2.理解数据"
   ]
  },
  {
   "cell_type": "code",
   "execution_count": 1,
   "id": "08483ddd",
   "metadata": {},
   "outputs": [],
   "source": [
    "# 导入包\n",
    "from sklearn.datasets import load_files\n",
    "from sklearn.feature_extraction.text import CountVectorizer # 用于将文本数据转换为机器学习算法可以处理的数值特征\n",
    "from sklearn.feature_extraction.text import TfidfVectorizer # 用于将文本数据转换为机器学习算法可以处理的数值特征\n",
    "from sklearn.linear_model import LogisticRegression\n",
    "from sklearn.naive_bayes import MultinomialNB\n",
    "from sklearn.neighbors import KNeighborsClassifier\n",
    "from sklearn.svm import SVC\n",
    "from sklearn.tree import DecisionTreeClassifier\n",
    "from sklearn.metrics import classification_report\n",
    "from sklearn.metrics import accuracy_score\n",
    "from sklearn.model_selection import cross_val_score\n",
    "from sklearn.model_selection import KFold\n",
    "from sklearn.model_selection import GridSearchCV\n",
    "from sklearn.ensemble import AdaBoostClassifier\n",
    "from sklearn.ensemble import RandomForestClassifier\n",
    "from matplotlib import pyplot as plt\n",
    "\n",
    "# 时间记录\n",
    "import time"
   ]
  },
  {
   "cell_type": "markdown",
   "id": "2a75e5c5",
   "metadata": {},
   "source": [
    "### 导入数据"
   ]
  },
  {
   "cell_type": "code",
   "execution_count": 3,
   "id": "56c60465",
   "metadata": {},
   "outputs": [
    {
     "name": "stdout",
     "output_type": "stream",
     "text": [
      "本部分耗时： 301.4700803756714\n"
     ]
    }
   ],
   "source": [
    "# 导入数据\n",
    "time1 = time.time()\n",
    "categories = ['alt.atheism',\n",
    "              'rec.sport.hockey',\n",
    "              'comp.graphics',\n",
    "              'sci.crypt',\n",
    "              'comp.os.ms-windows.misc',\n",
    "              'sci.electronics',\n",
    "              'comp.sys.ibm.pc.hardware',\n",
    "              'sci.med',\n",
    "              'comp.sys.mac.hardware',\n",
    "              'sci.space',\n",
    "              'comp.windows.x',\n",
    "              'soc.religion.christian',\n",
    "              'misc.forsale',\n",
    "              'talk.politics.guns',\n",
    "              'rec.autos' \n",
    "              'talk.politics.mideast',\n",
    "              'rec.motorcycles',\n",
    "              'talk.politics.misc',\n",
    "              'rec.sport.baseball',\n",
    "              'talk.religion.misc']\n",
    "\n",
    "# 注意读取文件夹文件的方法\n",
    "# 导入训练数据\n",
    "# 现在硬盘里根据关键词找一下\n",
    "# 注意学习一下，路径下的内容在文件夹里面\n",
    "# load_files加载包含文本或图像数据集的文件夹\n",
    "train_path = r'E:\\Fold1_课程\\4_网上素材\\bigdata\\practise6\\all\\4_textclassificationmodel\\20news-bydate\\20news-bydate-train'\n",
    "dataset_train = load_files(container_path = train_path, categories = categories)\n",
    "\n",
    "# 导入评估数据\n",
    "test_path = r'E:\\Fold1_课程\\4_网上素材\\bigdata\\practise6\\all\\4_textclassificationmodel\\20news-bydate\\20news-bydate-test'\n",
    "dataset_test = load_files(container_path = test_path, categories = categories)\n",
    "\n",
    "time2 = time.time()\n",
    "\n",
    "print(\"本部分耗时：\",time2 - time1)"
   ]
  },
  {
   "cell_type": "markdown",
   "id": "325ad72c",
   "metadata": {},
   "source": [
    "# 3.数据准备"
   ]
  },
  {
   "cell_type": "code",
   "execution_count": 14,
   "id": "6820fda2",
   "metadata": {},
   "outputs": [
    {
     "name": "stdout",
     "output_type": "stream",
     "text": [
      "(10156, 122402)\n",
      "本部分耗时： 3.6596193313598633\n"
     ]
    }
   ],
   "source": [
    "time1 = time.time()\n",
    "\n",
    "# 计算词频\n",
    "count_vect = CountVectorizer(stop_words='english', decode_error='ignore')\n",
    "X_train_counts = count_vect.fit_transform(dataset_train.data)\n",
    "\n",
    "# 查看数据维度\n",
    "print(X_train_counts.shape)\n",
    "\n",
    "time2 = time.time()\n",
    "print(\"本部分耗时：\", time2 - time1)"
   ]
  },
  {
   "cell_type": "code",
   "execution_count": 5,
   "id": "8e162f24",
   "metadata": {},
   "outputs": [
    {
     "name": "stdout",
     "output_type": "stream",
     "text": [
      "本部分耗时： 2.15875244140625\n"
     ]
    }
   ],
   "source": [
    "time1 = time.time()\n",
    "\n",
    "# 计算TF-IDF，构建词向量\n",
    "tf_transformer = TfidfVectorizer(stop_words='english', decode_error='ignore')\n",
    "X_train_counts_tf = tf_transformer.fit_transform(dataset_train.data)\n",
    "\n",
    "time2 = time.time()\n",
    "print(\"本部分耗时：\", time2 - time1)"
   ]
  },
  {
   "cell_type": "markdown",
   "id": "355a5c75",
   "metadata": {},
   "source": [
    "# 4.评估算法"
   ]
  },
  {
   "cell_type": "code",
   "execution_count": 6,
   "id": "75347cd7",
   "metadata": {},
   "outputs": [
    {
     "name": "stdout",
     "output_type": "stream",
     "text": [
      "(10156, 122402)\n",
      "LR : 0.904193 (0.008237)\n",
      "SVM : 0.906065 (0.008374)\n",
      "CART : 0.659708 (0.016513)\n",
      "MNB : 0.881349 (0.011071)\n",
      "KNN : 0.795983 (0.010343)\n",
      "本部分耗时： 2620.345468044281\n"
     ]
    }
   ],
   "source": [
    "time1 = time.time()\n",
    "\n",
    "# 查看数据维度\n",
    "print(X_train_counts_tf.shape)\n",
    "\n",
    "# 设置评估算法的基准\n",
    "num_folds = 10\n",
    "seed = 7\n",
    "scoring = 'accuracy'\n",
    "\n",
    "\n",
    "# 3）评估算法\n",
    "# 生成算法模型\n",
    "models = {}\n",
    "models['LR']   = LogisticRegression()\n",
    "models['SVM']  = SVC()\n",
    "models['CART'] = DecisionTreeClassifier()\n",
    "models['MNB']  = MultinomialNB()\n",
    "models['KNN']  = KNeighborsClassifier()\n",
    "\n",
    "\n",
    "# 比较算法\n",
    "results = []\n",
    "for key in models:\n",
    "    kfold = KFold(n_splits = num_folds, random_state = seed, shuffle  = True)\n",
    "    cv_results = cross_val_score(models[key], X_train_counts_tf, dataset_train.target, cv = kfold, scoring = scoring)\n",
    "    results.append(cv_results)\n",
    "    print('%s : %f (%f)' % (key, cv_results.mean(), cv_results.std()))\n",
    "    \n",
    "time2 = time.time()\n",
    "print(\"本部分耗时：\", time2 - time1)"
   ]
  },
  {
   "cell_type": "code",
   "execution_count": 8,
   "id": "02e23d67",
   "metadata": {},
   "outputs": [
    {
     "data": {
      "image/png": "[encoded data removed]",
      "text/plain": [
       "<Figure size 640x480 with 1 Axes>"
      ]
     },
     "metadata": {},
     "output_type": "display_data"
    }
   ],
   "source": [
    "time1 = time.time()\n",
    "\n",
    "# 箱线图比较算法\n",
    "fig = plt.figure()\n",
    "fig.suptitle('Algorithm Comparision')\n",
    "ax = fig.add_subplot(111)\n",
    "plt.boxplot(results)\n",
    "ax.set_xticklabels(models.keys())\n",
    "plt.show()\n",
    "\n",
    "time2 = time.time()\n",
    "print(\"本部分耗时：\", time2 - time1)"
   ]
  },
  {
   "cell_type": "code",
   "execution_count": 8,
   "id": "2c499481",
   "metadata": {},
   "outputs": [
    {
     "name": "stdout",
     "output_type": "stream",
     "text": [
      "LR调参结果：\n",
      "最优 : 0.9240821729180405 使用 {'C': 13}\n",
      "本部分耗时： 1911.0423846244812\n"
     ]
    }
   ],
   "source": [
    "time1 = time.time()\n",
    "\n",
    "# 4）算法调参\n",
    "# 调参LR\n",
    "param_grid = {}\n",
    "param_grid['C'] = [0.1, 5, 13, 15]\n",
    "model = LogisticRegression(max_iter = 1000) # 缺省时max_iter = 100\n",
    "kfold = KFold(n_splits=num_folds, random_state=seed, shuffle=True)\n",
    "grid = GridSearchCV(estimator=model, param_grid=param_grid, scoring=scoring, cv=kfold)\n",
    "grid_result = grid.fit(X=X_train_counts_tf, y=dataset_train.target)\n",
    "print(\"LR调参结果：\")\n",
    "print('最优 : %s 使用 %s' % (grid_result.best_score_, grid_result.best_params_))\n",
    "\n",
    "\n",
    "time2 = time.time()\n",
    "print(\"本部分耗时：\", time2 - time1)"
   ]
  },
  {
   "cell_type": "code",
   "execution_count": 9,
   "id": "b70be2f3",
   "metadata": {},
   "outputs": [
    {
     "name": "stdout",
     "output_type": "stream",
     "text": [
      "MNB调参结果\n",
      "最优 : 0.9153203909856096 使用 {'alpha': 0.01}\n",
      "本部分耗时： 4.0638580322265625\n"
     ]
    }
   ],
   "source": [
    "time1 = time.time()\n",
    "\n",
    "# 调参MNB\n",
    "param_grid = {}\n",
    "param_grid['alpha'] = [0.001, 0.01, 0.1, 1.5]\n",
    "model = MultinomialNB()\n",
    "kfold = KFold(n_splits=num_folds, random_state=seed, shuffle=True)\n",
    "grid = GridSearchCV(estimator=model, param_grid=param_grid, scoring=scoring, cv=kfold)\n",
    "grid_result = grid.fit(X=X_train_counts_tf, y=dataset_train.target)\n",
    "print(\"MNB调参结果\")\n",
    "print('最优 : %s 使用 %s' % (grid_result.best_score_, grid_result.best_params_))\n",
    "\n",
    "\n",
    "time2 = time.time()\n",
    "print(\"本部分耗时：\", time2 - time1)"
   ]
  },
  {
   "cell_type": "markdown",
   "id": "99b00f59",
   "metadata": {},
   "source": [
    "# 5.优化模型"
   ]
  },
  {
   "cell_type": "code",
   "execution_count": 10,
   "id": "8a2a503e",
   "metadata": {},
   "outputs": [
    {
     "name": "stdout",
     "output_type": "stream",
     "text": [
      "集成算法结果：\n",
      "RF : 0.857815 (0.009090)\n",
      "集成算法结果：\n",
      "AB : 0.558879 (0.016715)\n",
      "本部分耗时： 7406.004269599915\n"
     ]
    }
   ],
   "source": [
    "time1 = time.time()\n",
    "\n",
    "# 5）集成算法\n",
    "ensembles = {}\n",
    "ensembles['RF'] = RandomForestClassifier()\n",
    "ensembles['AB'] = AdaBoostClassifier()\n",
    "\n",
    "# 比较集成算法\n",
    "results = []\n",
    "for key in ensembles:\n",
    "    kfold = KFold(n_splits=num_folds, random_state=seed, shuffle=True)\n",
    "    cv_results = cross_val_score(ensembles[key], X_train_counts_tf, dataset_train.target, cv=kfold, scoring=scoring)\n",
    "    results.append(cv_results)\n",
    "    print(\"集成算法结果：\")\n",
    "    print('%s : %f (%f)' % (key, cv_results.mean(), cv_results.std()))\n",
    "    \n",
    "time2 = time.time()\n",
    "print(\"本部分耗时：\", time2 - time1)"
   ]
  },
  {
   "cell_type": "code",
   "execution_count": 11,
   "id": "83d755d8",
   "metadata": {},
   "outputs": [
    {
     "data": {
      "image/png": "[encoded data removed]",
      "text/plain": [
       "<Figure size 640x480 with 1 Axes>"
      ]
     },
     "metadata": {},
     "output_type": "display_data"
    },
    {
     "name": "stdout",
     "output_type": "stream",
     "text": [
      "本部分耗时： 0.21843743324279785\n"
     ]
    }
   ],
   "source": [
    "time1 = time.time()\n",
    "\n",
    "# 箱线图比较算法\n",
    "fig = plt.figure()\n",
    "fig.suptitle('Algorithm Comparision')\n",
    "ax = fig.add_subplot(111)\n",
    "plt.boxplot(results)\n",
    "ax.set_xticklabels(ensembles.keys())\n",
    "plt.show()\n",
    "\n",
    "\n",
    "time2 = time.time()\n",
    "print(\"本部分耗时：\", time2 - time1)"
   ]
  },
  {
   "cell_type": "code",
   "execution_count": 12,
   "id": "5da4926c",
   "metadata": {},
   "outputs": [
    {
     "name": "stdout",
     "output_type": "stream",
     "text": [
      "最优 : 0.8670710019006245 使用 {'n_estimators': 200}\n",
      "本部分耗时： 48434.99038696289\n"
     ]
    }
   ],
   "source": [
    "time1 = time.time()\n",
    "\n",
    "# 调参RF\n",
    "param_grid = {}\n",
    "param_grid['n_estimators'] = [10, 100, 150, 200]\n",
    "model = RandomForestClassifier()\n",
    "kfold = KFold(n_splits=num_folds, random_state=seed, shuffle=True)\n",
    "grid = GridSearchCV(estimator=model, param_grid=param_grid, scoring=scoring, cv=kfold)\n",
    "grid_result = grid.fit(X=X_train_counts_tf, y=dataset_train.target)\n",
    "print('最优 : %s 使用 %s' % (grid_result.best_score_, grid_result.best_params_))\n",
    "\n",
    "time2 = time.time()\n",
    "print(\"本部分耗时：\", time2 - time1) # 13.45小时"
   ]
  },
  {
   "cell_type": "markdown",
   "id": "dee85293",
   "metadata": {},
   "source": [
    "# 6.确定模型"
   ]
  },
  {
   "cell_type": "code",
   "execution_count": 17,
   "id": "e1c9af73",
   "metadata": {},
   "outputs": [
    {
     "name": "stdout",
     "output_type": "stream",
     "text": [
      "0.8430473372781065\n",
      "              precision    recall  f1-score   support\n",
      "\n",
      "           0       0.84      0.77      0.81       319\n",
      "           1       0.73      0.81      0.77       389\n",
      "           2       0.76      0.74      0.75       394\n",
      "           3       0.71      0.75      0.73       392\n",
      "           4       0.82      0.85      0.83       385\n",
      "           5       0.86      0.76      0.81       395\n",
      "           6       0.82      0.91      0.86       390\n",
      "           7       0.96      0.97      0.97       398\n",
      "           8       0.92      0.94      0.93       397\n",
      "           9       0.97      0.96      0.97       399\n",
      "          10       0.96      0.92      0.94       396\n",
      "          11       0.79      0.79      0.79       393\n",
      "          12       0.90      0.87      0.89       396\n",
      "          13       0.92      0.92      0.92       394\n",
      "          14       0.86      0.92      0.89       398\n",
      "          15       0.75      0.90      0.82       364\n",
      "          16       0.87      0.62      0.72       310\n",
      "          17       0.72      0.61      0.66       251\n",
      "\n",
      "    accuracy                           0.84      6760\n",
      "   macro avg       0.84      0.83      0.84      6760\n",
      "weighted avg       0.85      0.84      0.84      6760\n",
      "\n",
      "本部分耗时： 66.37540411949158\n"
     ]
    }
   ],
   "source": [
    "time1 = time.time()\n",
    "\n",
    "# 6）生成模型\n",
    "model = LogisticRegression(C=13, max_iter = 1000) # 缺省时max_iter = 100\n",
    "model.fit(X_train_counts_tf, dataset_train.target)\n",
    "X_test_counts = tf_transformer.transform(dataset_test.data)\n",
    "predictions = model.predict(X_test_counts)\n",
    "print(accuracy_score(dataset_test.target, predictions))\n",
    "print(classification_report(dataset_test.target, predictions))\n",
    "\n",
    "time2 = time.time()\n",
    "print(\"本部分耗时：\", time2 - time1)"
   ]
  }
 ],
 "metadata": {
  "kernelspec": {
   "display_name": "Python 3 (ipykernel)",
   "language": "python",
   "name": "python3"
  },
  "language_info": {
   "codemirror_mode": {
    "name": "ipython",
    "version": 3
   },
   "file_extension": ".py",
   "mimetype": "text/x-python",
   "name": "python",
   "nbconvert_exporter": "python",
   "pygments_lexer": "ipython3",
   "version": "3.11.5"
  }
 },
 "nbformat": 4,
 "nbformat_minor": 5
}
